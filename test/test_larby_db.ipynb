{
 "cells": [
  {
   "cell_type": "code",
   "execution_count": null,
   "metadata": {
    "collapsed": true
   },
   "outputs": [],
   "source": [
    "import google.protobuf as protobuf\n",
    "import numpy as np\n",
    "import lmdb as lmdb\n",
    "import caffe_pb2 as caffe\n",
    "import matplotlib.pyplot as plt\n",
    "import matplotlib.image as mpimg\n",
    "%matplotlib inline"
   ]
  },
  {
   "cell_type": "code",
   "execution_count": null,
   "metadata": {
    "collapsed": false
   },
   "outputs": [],
   "source": [
    "env = lmdb.open('output_supera.mdb', readonly=True)\n",
    "print env"
   ]
  },
  {
   "cell_type": "code",
   "execution_count": null,
   "metadata": {
    "collapsed": false
   },
   "outputs": [],
   "source": [
    "with env.begin() as txn:\n",
    "    cursor = txn.cursor()\n",
    "    #cursor.first()\n",
    "    cursor.get(\"run000001_subrun1032_event051581\")   \n",
    "    print cursor.item()[0]\n",
    "    print len(cursor.item()[1])\n",
    "    raw_datum = cursor.item()[1]\n"
   ]
  },
  {
   "cell_type": "code",
   "execution_count": null,
   "metadata": {
    "collapsed": false
   },
   "outputs": [],
   "source": [
    "datum = caffe.Datum()\n",
    "datum.ParseFromString(raw_datum)"
   ]
  },
  {
   "cell_type": "code",
   "execution_count": null,
   "metadata": {
    "collapsed": false
   },
   "outputs": [],
   "source": [
    "# convert to numpy array\n",
    "print datum.height,datum.width,datum.channels\n",
    "h = datum.height\n",
    "w = datum.width\n",
    "offset = 0\n",
    "print \"t0=\",3200+offset\n",
    "image = np.zeros( (h-offset,w), dtype=np.float )\n",
    "for t in xrange(0,h-offset):\n",
    "    image[t,:] = datum.float_data[ datum.width*(offset+t): datum.width*(offset+t+1)]\n",
    "imgplot = plt.imshow(image)"
   ]
  },
  {
   "cell_type": "code",
   "execution_count": null,
   "metadata": {
    "collapsed": true
   },
   "outputs": [],
   "source": []
  }
 ],
 "metadata": {
  "kernelspec": {
   "display_name": "Python 2",
   "language": "python",
   "name": "python2"
  },
  "language_info": {
   "codemirror_mode": {
    "name": "ipython",
    "version": 2
   },
   "file_extension": ".py",
   "mimetype": "text/x-python",
   "name": "python",
   "nbconvert_exporter": "python",
   "pygments_lexer": "ipython2",
   "version": "2.7.11"
  }
 },
 "nbformat": 4,
 "nbformat_minor": 0
}
